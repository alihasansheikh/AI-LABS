{
 "cells": [
  {
   "cell_type": "markdown",
   "id": "d4162312-d0c1-460c-a989-3c2180f8e29b",
   "metadata": {},
   "source": [
    "TASK 1"
   ]
  },
  {
   "cell_type": "code",
   "execution_count": 3,
   "id": "407463af-e67e-4296-9509-f7b8d24cd3d4",
   "metadata": {},
   "outputs": [],
   "source": [
    "from sklearn import preprocessing\n",
    "from sklearn.naive_bayes import GaussianNB\n",
    "from sklearn.model_selection import train_test_split\n",
    "from sklearn.metrics import confusion_matrix, accuracy_score\n"
   ]
  },
  {
   "cell_type": "code",
   "execution_count": 5,
   "id": "7d867b61-d4f5-4a24-9d0c-0543add682e4",
   "metadata": {},
   "outputs": [],
   "source": [
    "outlook = ['Sunny', 'Sunny', 'Overcast', 'Rainy', 'Rainy', 'Rainy', 'Overcast', 'Sunny', 'Sunny', 'Rainy', 'Sunny', 'Overcast', 'Overcast', 'Rainy']\n",
    "temperature = ['Hot', 'Hot', 'Hot', 'Mild', 'Cool', 'Cool', 'Cool', 'Mild', 'Cool', 'Mild', 'Mild', 'Mild', 'Hot', 'Mild']\n",
    "play = ['No', 'No', 'Yes', 'Yes', 'Yes', 'No', 'Yes', 'No', 'Yes', 'Yes', 'Yes', 'Yes', 'Yes', 'No']"
   ]
  },
  {
   "cell_type": "code",
   "execution_count": 7,
   "id": "2f66e6d5-676c-46e8-a4a1-5d83bf293080",
   "metadata": {},
   "outputs": [],
   "source": [
    "le = preprocessing.LabelEncoder()\n",
    "outlook_encoded = le.fit_transform(outlook)\n",
    "temperature_encoded = le.fit_transform(temperature)\n",
    "play_encoded = le.fit_transform(play)"
   ]
  },
  {
   "cell_type": "code",
   "execution_count": 9,
   "id": "28af06b9-464e-48e9-bce6-893cf198cfde",
   "metadata": {},
   "outputs": [],
   "source": [
    "features = list(zip(outlook_encoded, temperature_encoded))\n",
    "features_train, features_test, label_train, label_test = train_test_split(\n",
    "features, play_encoded, test_size=0.2, random_state=42)"
   ]
  },
  {
   "cell_type": "code",
   "execution_count": 11,
   "id": "cc486a90-9940-458f-b3b3-5726aa185986",
   "metadata": {},
   "outputs": [],
   "source": [
    "model = GaussianNB()\n",
    "model.fit(features_train, label_train)\n",
    "predicted = model.predict(features_test)"
   ]
  },
  {
   "cell_type": "code",
   "execution_count": 15,
   "id": "b5521d6d-008b-47b4-ae1d-0019a5b61ce2",
   "metadata": {},
   "outputs": [
    {
     "name": "stdout",
     "output_type": "stream",
     "text": [
      "Prediction: [0 1 0]\n",
      "Confusion Matrix:\n",
      "[[1 0]\n",
      " [1 1]]\n",
      "Accuracy: 0.6666666666666666\n"
     ]
    }
   ],
   "source": [
    "print(\"Prediction:\", predicted)\n",
    "conf_mat = confusion_matrix(label_test, predicted)\n",
    "print(\"Confusion Matrix:\")\n",
    "print(conf_mat)\n",
    "accuracy = accuracy_score(label_test, predicted)\n",
    "print(\"Accuracy:\", accuracy)"
   ]
  },
  {
   "cell_type": "markdown",
   "id": "26cefe62-a020-4234-8181-b18ad32e53a3",
   "metadata": {},
   "source": [
    "TASK2"
   ]
  },
  {
   "cell_type": "code",
   "execution_count": 19,
   "id": "70c62b2f-7997-43f9-abe5-dd7101de634d",
   "metadata": {},
   "outputs": [],
   "source": [
    "import pandas as pd\n",
    "from sklearn import preprocessing\n",
    "from sklearn.naive_bayes import GaussianNB\n",
    "from sklearn.metrics import confusion_matrix, accuracy_score\n",
    "from sklearn.model_selection import train_test_split"
   ]
  },
  {
   "cell_type": "code",
   "execution_count": 21,
   "id": "1dfb45bf-a868-413e-a7a1-b3e31bf1cf88",
   "metadata": {},
   "outputs": [],
   "source": [
    "age = [\"youth\", \"youth\", \"middle_aged\", \"senior\", \"senior\", \"senior\", \"middle_aged\", \"youth\", \"youth\", \"senior\", \"youth\", \"middle_aged\", \"middle_aged\", \"senior\"]\n",
    "income = [\"high\", \"high\", \"high\", \"medium\", \"low\", \"low\", \"low\", \"medium\", \"low\", \"medium\", \"medium\", \"medium\", \"high\", \"medium\"]\n",
    "student = [\"no\", \"no\", \"no\", \"no\", \"yes\", \"yes\", \"yes\", \"no\", \"yes\", \"yes\", \"yes\", \"no\", \"yes\", \"no\"]\n",
    "credit_rating = [\"fair\", \"excellent\", \"fair\", \"fair\", \"fair\", \"excellent\", \"excellent\", \"fair\", \"fair\", \"fair\", \"excellent\", \"excellent\", \"fair\", \"excellent\"]\n",
    "buys_computer = [\"no\", \"no\", \"yes\", \"yes\", \"yes\", \"no\", \"yes\", \"no\", \"yes\", \"yes\", \"yes\", \"yes\", \"yes\", \"no\"]"
   ]
  },
  {
   "cell_type": "code",
   "execution_count": 23,
   "id": "9ee1f3f9-44e1-4034-9d6f-87e7ddfe5d1f",
   "metadata": {},
   "outputs": [],
   "source": [
    "le = preprocessing.LabelEncoder()\n",
    "age_encoded = le.fit_transform(age)\n",
    "income_encoded = le.fit_transform(income)\n",
    "student_encoded = le.fit_transform(student)\n",
    "credit_rating_encoded = le.fit_transform(credit_rating)\n",
    "buys_computer_encoded = le.fit_transform(buys_computer)"
   ]
  },
  {
   "cell_type": "code",
   "execution_count": 25,
   "id": "f9c65eec-111f-4c2b-b99b-55957f4342f8",
   "metadata": {},
   "outputs": [],
   "source": [
    "features = list(zip(age_encoded, income_encoded, student_encoded, credit_rating_encoded))\n",
    "features_train, features_test, label_train, label_test = train_test_split(features, buys_computer_encoded, test_size=0.2, random_state=42)\n",
    "model = GaussianNB()\n",
    "model.fit(features_train, label_train)\n",
    "predicted = model.predict(features_test)"
   ]
  },
  {
   "cell_type": "code",
   "execution_count": 27,
   "id": "2b2df7cd-33bb-46a2-8e43-e1f3bdbbd169",
   "metadata": {},
   "outputs": [
    {
     "name": "stdout",
     "output_type": "stream",
     "text": [
      "Predicted: [1 1 1]\n",
      "Actual: [1 1 0]\n",
      "Confusion Matrix:\n",
      "[[0 1]\n",
      " [0 2]]\n",
      "Accuracy: 0.6666666666666666\n"
     ]
    }
   ],
   "source": [
    "print(\"Predicted:\", predicted)\n",
    "print(\"Actual:\", label_test)\n",
    "conf_mat = confusion_matrix(label_test, predicted)\n",
    "accuracy = accuracy_score(label_test, predicted)\n",
    "print(\"Confusion Matrix:\")\n",
    "print(conf_mat)\n",
    "print(\"Accuracy:\", accuracy)"
   ]
  },
  {
   "cell_type": "markdown",
   "id": "1277223e-b7f6-4b23-8a64-ed54216b242a",
   "metadata": {},
   "source": [
    "HOME ASSIGNMENT"
   ]
  },
  {
   "cell_type": "code",
   "execution_count": 68,
   "id": "d5dfb838-674c-406b-9297-0d53ce30e9fd",
   "metadata": {},
   "outputs": [],
   "source": [
    "import pandas as pd\n",
    "from sklearn import preprocessing\n",
    "from sklearn.naive_bayes import GaussianNB\n",
    "from sklearn.metrics import confusion_matrix, accuracy_score\n",
    "from sklearn.model_selection import train_test_split"
   ]
  },
  {
   "cell_type": "code",
   "execution_count": 70,
   "id": "ac330862-4585-406a-ade8-88321a3de2f9",
   "metadata": {},
   "outputs": [],
   "source": [
    "grade = [\"High\", \"Medium\", \"Low\", \"High\", \"Medium\", \"Low\", \"High\", \"Medium\", \"Low\", \"Medium\"]\n",
    "extracurricular = [\"Yes\", \"No\", \"Yes\", \"Yes\", \"No\", \"No\", \"Yes\", \"No\", \"Yes\", \"No\"]\n",
    "recommendation = [\"Strong\", \"Average\", \"Weak\", \"Strong\", \"Average\", \"Weak\", \"Strong\", \"Average\", \"Weak\", \"Average\"]\n",
    "interview = [\"Excellent\", \"Good\", \"Poor\", \"Excellent\", \"Good\", \"Poor\", \"Excellent\", \"Good\", \"Poor\", \"Good\"]\n",
    "admission = [\"Yes\", \"No\", \"No\", \"Yes\", \"Yes\", \"No\", \"Yes\", \"No\", \"No\", \"Yes\"]"
   ]
  },
  {
   "cell_type": "code",
   "execution_count": 72,
   "id": "53ed6b8e-ed0a-450f-acf5-7576f01a07a1",
   "metadata": {},
   "outputs": [],
   "source": [
    "le = preprocessing.LabelEncoder()\n",
    "grade_encoded = le.fit_transform(grade)\n",
    "extracurricular_encoded = le.fit_transform(extracurricular)\n",
    "recommendation_encoded = le.fit_transform(recommendation)\n",
    "interview_encoded = le.fit_transform(interview)\n",
    "admission_encoded = le.fit_transform(admission)"
   ]
  },
  {
   "cell_type": "code",
   "execution_count": 74,
   "id": "cb420cce-1148-4d87-a069-4da92aeea5b9",
   "metadata": {},
   "outputs": [],
   "source": [
    "features = list(zip(grade_encoded, extracurricular_encoded, recommendation_encoded, interview_encoded))\n",
    "features_train, features_test, label_train, label_test = train_test_split(features, admission_encoded, test_size=0.4, random_state=42)"
   ]
  },
  {
   "cell_type": "code",
   "execution_count": 76,
   "id": "7b972006-f610-4b32-9651-423cd015e24d",
   "metadata": {},
   "outputs": [],
   "source": [
    "model = GaussianNB()\n",
    "model.fit(features_train, label_train)\n",
    "predicted = model.predict(features_test)"
   ]
  },
  {
   "cell_type": "code",
   "execution_count": 78,
   "id": "805b95a2-d842-4982-b7e5-08bd0f4e2ee5",
   "metadata": {},
   "outputs": [],
   "source": [
    "conf_mat = confusion_matrix(label_test, predicted)\n",
    "accuracy = accuracy_score(label_test, predicted)"
   ]
  },
  {
   "cell_type": "code",
   "execution_count": 80,
   "id": "d29d0b64-852f-45d1-83d9-93afb02cb2ea",
   "metadata": {},
   "outputs": [
    {
     "name": "stdout",
     "output_type": "stream",
     "text": [
      "Predicted: [0 1 0 1]\n",
      "Actual: [0 0 0 1]\n",
      "Confusion Matrix:\n",
      "[[2 1]\n",
      " [0 1]]\n",
      "Accuracy: 0.75\n"
     ]
    }
   ],
   "source": [
    "print(\"Predicted:\", predicted)\n",
    "print(\"Actual:\", label_test)\n",
    "print(\"Confusion Matrix:\")\n",
    "print(conf_mat)\n",
    "print(\"Accuracy:\", accuracy)"
   ]
  }
 ],
 "metadata": {
  "kernelspec": {
   "display_name": "Python 3 (ipykernel)",
   "language": "python",
   "name": "python3"
  },
  "language_info": {
   "codemirror_mode": {
    "name": "ipython",
    "version": 3
   },
   "file_extension": ".py",
   "mimetype": "text/x-python",
   "name": "python",
   "nbconvert_exporter": "python",
   "pygments_lexer": "ipython3",
   "version": "3.12.7"
  }
 },
 "nbformat": 4,
 "nbformat_minor": 5
}
