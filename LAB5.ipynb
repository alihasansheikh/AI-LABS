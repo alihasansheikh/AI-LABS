{
 "cells": [
  {
   "cell_type": "markdown",
   "id": "afa67948-6208-42a8-b355-41932bddb049",
   "metadata": {},
   "source": [
    "TASK 1"
   ]
  },
  {
   "cell_type": "code",
   "execution_count": 11,
   "id": "656b6961-9ae8-41d3-a167-ce14c4bfce46",
   "metadata": {},
   "outputs": [],
   "source": [
    "import pandas as pd\n",
    "import numpy as np\n",
    "from sklearn.tree import DecisionTreeClassifier\n",
    "from sklearn.metrics import confusion_matrix, accuracy_score\n",
    "from sklearn.model_selection import train_test_split"
   ]
  },
  {
   "cell_type": "code",
   "execution_count": 13,
   "id": "39ebe9da-477a-4259-b2fc-112881c967d7",
   "metadata": {},
   "outputs": [],
   "source": [
    "gender = ['male', 'male', 'male', 'male', 'female', 'female', 'female', 'female']\n",
    "height = [6.00, 5.92, 5.58, 5.92, 5.00, 5.50, 5.42, 5.75]\n",
    "weight = [180, 190, 170, 165, 100, 150, 130, 150]\n",
    "foot_size = [12, 11, 12, 10, 6, 8, 7, 9]"
   ]
  },
  {
   "cell_type": "code",
   "execution_count": 15,
   "id": "159cc980-7365-4387-8f9a-d9edd317f33d",
   "metadata": {},
   "outputs": [],
   "source": [
    "df = pd.DataFrame({\n",
    "    'Gender': gender,\n",
    "    'Height': height,\n",
    "    'Weight': weight,\n",
    "    'Foot_Size': foot_size\n",
    "})"
   ]
  },
  {
   "cell_type": "code",
   "execution_count": 17,
   "id": "ea2269b7-8bba-4bf5-a671-ebbefa2ee082",
   "metadata": {},
   "outputs": [],
   "source": [
    "features = df[['Height', 'Weight', 'Foot_Size']]\n",
    "labels = df['Gender']"
   ]
  },
  {
   "cell_type": "code",
   "execution_count": 19,
   "id": "4aeeedad-8500-462a-80a5-4d5fc1b04a69",
   "metadata": {},
   "outputs": [],
   "source": [
    "features_train, features_test, labels_train, labels_test = train_test_split(features, labels, test_size=0.2, random_state=42)"
   ]
  },
  {
   "cell_type": "code",
   "execution_count": 21,
   "id": "93d1748c-7a59-40fd-8a1e-500e6853acba",
   "metadata": {},
   "outputs": [],
   "source": [
    "classifier = DecisionTreeClassifier()\n",
    "classifier = classifier.fit(features_train, labels_train)"
   ]
  },
  {
   "cell_type": "code",
   "execution_count": 23,
   "id": "f78d43df-6916-42ef-b67c-6e936515ec1e",
   "metadata": {},
   "outputs": [
    {
     "name": "stderr",
     "output_type": "stream",
     "text": [
      "C:\\Users\\KK Computers\\anaconda3\\Lib\\site-packages\\sklearn\\base.py:493: UserWarning: X does not have valid feature names, but DecisionTreeClassifier was fitted with feature names\n",
      "  warnings.warn(\n"
     ]
    }
   ],
   "source": [
    "new_entry = [[6.00, 180, 12]]\n",
    "prediction = classifier.predict(new_entry)"
   ]
  },
  {
   "cell_type": "code",
   "execution_count": 25,
   "id": "56886925-4971-4c6b-b947-a7e8c46c9f45",
   "metadata": {},
   "outputs": [],
   "source": [
    "labels_pred = classifier.predict(features_test)\n",
    "conf_matrix = confusion_matrix(labels_test, labels_pred)\n",
    "accuracy = accuracy_score(labels_test, labels_pred)"
   ]
  },
  {
   "cell_type": "code",
   "execution_count": 50,
   "id": "8dc9933f-dd4f-44c5-b46a-0f9781bcfe56",
   "metadata": {},
   "outputs": [
    {
     "name": "stdout",
     "output_type": "stream",
     "text": [
      "prediction: male\n",
      "Confution matrix:\n",
      "[[1 0]\n",
      " [0 1]]\n",
      "Accuracy: 1.0\n"
     ]
    }
   ],
   "source": [
    "print(\"prediction: \" +prediction[0])\n",
    "print(\"Confution matrix:\")\n",
    "print(conf_matrix)\n",
    "print(\"Accuracy: \",end=\"\")\n",
    "print(accuracy)"
   ]
  },
  {
   "cell_type": "markdown",
   "id": "0c13b90e-00e8-4aca-9920-2d2b5998ccc1",
   "metadata": {},
   "source": [
    "TASK 2"
   ]
  },
  {
   "cell_type": "code",
   "execution_count": 73,
   "id": "78d0d7f4-1306-49a8-8a2b-d2036132e153",
   "metadata": {},
   "outputs": [],
   "source": [
    "import pandas as pd\n",
    "import numpy as np\n",
    "from sklearn.tree import DecisionTreeClassifier\n",
    "from sklearn.metrics import confusion_matrix, accuracy_score\n",
    "from sklearn.model_selection import train_test_split"
   ]
  },
  {
   "cell_type": "code",
   "execution_count": 75,
   "id": "82399c7d-14ee-439e-9736-8d0b4fa83b7c",
   "metadata": {},
   "outputs": [],
   "source": [
    "Gender = ['male', 'male', 'male', 'male', 'female', 'female', 'female', 'female']\n",
    "Height = [6.00, 5.92, 5.58, 5.92, 5.00, 5.50, 5.42, 5.75]\n",
    "Weight = [180, 190, 170, 165, 100, 150, 130, 150]\n",
    "Foot_Size = [12, 11, 12, 10, 6, 8, 7, 9]"
   ]
  },
  {
   "cell_type": "code",
   "execution_count": 77,
   "id": "b28ae2a2-0c4c-4890-91df-73a3a6001f03",
   "metadata": {},
   "outputs": [],
   "source": [
    "features = pd.DataFrame({'Height': Height, 'Weight': Weight, 'Foot_Size': Foot_Size})\n",
    "labels = pd.Series(Gender)"
   ]
  },
  {
   "cell_type": "code",
   "execution_count": 79,
   "id": "b0ccaec8-ce3a-4287-ae6e-1121914bf3a1",
   "metadata": {},
   "outputs": [],
   "source": [
    "new_entry = [6.00, 180, 12]\n",
    "new_label = 'male'"
   ]
  },
  {
   "cell_type": "code",
   "execution_count": 81,
   "id": "bd9dc6d8-ed12-4665-8597-700f7b96d546",
   "metadata": {},
   "outputs": [],
   "source": [
    "new_features = pd.DataFrame([new_entry], columns=['Height', 'Weight', 'Foot_Size'])\n",
    "features = pd.concat([features, new_features], ignore_index=True)\n",
    "labels = pd.concat([labels, pd.Series([new_label])], ignore_index=True)"
   ]
  },
  {
   "cell_type": "code",
   "execution_count": 83,
   "id": "23720c55-83a6-46a7-9829-cfc347dfe8b1",
   "metadata": {},
   "outputs": [],
   "source": [
    "features_train, features_test, labels_train, labels_test = train_test_split(features, labels, test_size=0.2, random_state=42)"
   ]
  },
  {
   "cell_type": "code",
   "execution_count": 85,
   "id": "21c5e46e-3849-425b-9ade-562d2a912a86",
   "metadata": {},
   "outputs": [],
   "source": [
    "classifier = DecisionTreeClassifier()\n",
    "classifier = classifier.fit(features_train, labels_train)"
   ]
  },
  {
   "cell_type": "code",
   "execution_count": 87,
   "id": "6316f982-5ac7-4dd1-8e32-79be9551ab6b",
   "metadata": {},
   "outputs": [],
   "source": [
    "labels_pred = classifier.predict(features_test)\n",
    "conf_matrix = confusion_matrix(labels_test, labels_pred)\n",
    "accuracy = accuracy_score(labels_test, labels_pred)"
   ]
  },
  {
   "cell_type": "code",
   "execution_count": 89,
   "id": "ac2f072b-7884-4813-bd3c-1c0b9df3242d",
   "metadata": {},
   "outputs": [
    {
     "name": "stdout",
     "output_type": "stream",
     "text": [
      "prediction: male\n",
      "Confution matrix:\n",
      "[[1 0]\n",
      " [0 1]]\n",
      "Accuracy: 1.0\n"
     ]
    }
   ],
   "source": [
    "print(\"prediction: \" +prediction[0])\n",
    "print(\"Confution matrix:\")\n",
    "print(conf_matrix)\n",
    "print(\"Accuracy: \",end=\"\")\n",
    "print(accuracy)"
   ]
  },
  {
   "cell_type": "markdown",
   "id": "9bf2d6c4-a024-4ab9-9c55-6749e7072d71",
   "metadata": {},
   "source": [
    "TASK 3"
   ]
  },
  {
   "cell_type": "code",
   "execution_count": 101,
   "id": "bf322d46-88e2-4e77-8f4e-1c954ea9b441",
   "metadata": {},
   "outputs": [],
   "source": [
    "import numpy as np\n",
    "from sklearn.tree import DecisionTreeClassifier\n",
    "from sklearn.metrics import confusion_matrix, accuracy_score\n",
    "from sklearn.model_selection import train_test_split"
   ]
  },
  {
   "cell_type": "code",
   "execution_count": 103,
   "id": "69fd0dd5-53bc-4e94-95d8-b30f00cf3123",
   "metadata": {},
   "outputs": [],
   "source": [
    "Gender = np.array(['male', 'male', 'male', 'male', 'female', 'female', 'female', 'female'])\n",
    "Height = np.array([6.00, 5.92, 5.58, 5.92, 5.00, 5.50, 5.42, 5.75])\n",
    "Weight = np.array([180, 190, 170, 165, 100, 150, 130, 150])\n",
    "Foot_Size = np.array([12, 11, 12, 10, 6, 8, 7, 9])"
   ]
  },
  {
   "cell_type": "code",
   "execution_count": 105,
   "id": "cc793ae7-a5a5-44d7-bb8f-6fd68f392227",
   "metadata": {},
   "outputs": [],
   "source": [
    "features = np.column_stack((Height, Weight, Foot_Size))"
   ]
  },
  {
   "cell_type": "code",
   "execution_count": 107,
   "id": "f1a6e557-2f4c-40e9-ab3f-df0634ef5ebb",
   "metadata": {},
   "outputs": [],
   "source": [
    "labels = Gender"
   ]
  },
  {
   "cell_type": "code",
   "execution_count": 109,
   "id": "03f7cb8a-0641-450e-b6ba-a6b5736cd7bf",
   "metadata": {},
   "outputs": [],
   "source": [
    "features_train, features_test, labels_train, labels_test = train_test_split(features, labels, test_size=0.2, random_state=42)"
   ]
  },
  {
   "cell_type": "code",
   "execution_count": 111,
   "id": "09ae1565-a16e-45bb-8765-bc3321fb7090",
   "metadata": {},
   "outputs": [],
   "source": [
    "classifier = DecisionTreeClassifier()\n",
    "classifier = classifier.fit(features_train, labels_train)"
   ]
  },
  {
   "cell_type": "code",
   "execution_count": 113,
   "id": "10338114-2bda-4dad-86fa-20ee74eaa7dd",
   "metadata": {},
   "outputs": [
    {
     "name": "stdout",
     "output_type": "stream",
     "text": [
      "male\n"
     ]
    }
   ],
   "source": [
    "new_entry = np.array([[6.00, 180, 12]])\n",
    "prediction = classifier.predict(new_entry)\n",
    "print(prediction[0])"
   ]
  },
  {
   "cell_type": "code",
   "execution_count": 115,
   "id": "586e90c7-a570-4089-9534-945f6a5f76e7",
   "metadata": {},
   "outputs": [],
   "source": [
    "labels_pred = classifier.predict(features_test)\n",
    "conf_matrix = confusion_matrix(labels_test, labels_pred)\n",
    "accuracy = accuracy_score(labels_test, labels_pred)"
   ]
  },
  {
   "cell_type": "code",
   "execution_count": 119,
   "id": "8a99ded2-c86a-4e1e-99c6-6bd9d923baf7",
   "metadata": {},
   "outputs": [
    {
     "name": "stdout",
     "output_type": "stream",
     "text": [
      "prediction: male\n",
      "Confution matrix:\n",
      "[[1 0]\n",
      " [0 1]]\n",
      "Accuracy: 1.0\n"
     ]
    }
   ],
   "source": [
    "print(\"prediction: \" +prediction[0])\n",
    "print(\"Confution matrix:\")\n",
    "print(conf_matrix)\n",
    "print(\"Accuracy: \",end=\"\")\n",
    "print(accuracy)"
   ]
  },
  {
   "cell_type": "markdown",
   "id": "fa0b9bf8-7d51-4749-a3e0-9262e7e3aa40",
   "metadata": {},
   "source": [
    "HOME ASSIGNMENT"
   ]
  },
  {
   "cell_type": "code",
   "execution_count": 189,
   "id": "877393e2-01fa-429f-99f8-25719e878cbc",
   "metadata": {},
   "outputs": [],
   "source": [
    "import pandas as pd\n",
    "from sklearn.tree import DecisionTreeClassifier\n",
    "from sklearn.metrics import confusion_matrix, accuracy_score\n",
    "from sklearn.model_selection import train_test_split\n",
    "from sklearn.preprocessing import LabelEncoder"
   ]
  },
  {
   "cell_type": "code",
   "execution_count": 190,
   "id": "7808f0f4-e32e-4e88-beeb-eb561c2e6240",
   "metadata": {},
   "outputs": [],
   "source": [
    "Grade = ['High', 'Medium', 'Low', 'High', 'Low', 'Medium', 'Medium', 'High']\n",
    "Extracurricular_Activities = ['Yes', 'No', 'Yes', 'Yes', 'No', 'No', 'Yes', 'Yes']\n",
    "Recommendation_Letter = ['Strong', 'Weak', 'Average', 'Strong', 'Weak', 'Average', 'Strong', 'Strong']\n",
    "Interview_Performance = ['Excellent', 'Good', 'Poor', 'Excellent', 'Good', 'Poor', 'Good', 'Excellent']\n",
    "Admission = ['Yes', 'No', 'No', 'Yes', 'No', 'No', 'Yes', 'Yes']"
   ]
  },
  {
   "cell_type": "code",
   "execution_count": 191,
   "id": "dfb3c235-a06a-4b1a-a8fd-e3c011fa1649",
   "metadata": {},
   "outputs": [],
   "source": [
    "features = pd.DataFrame({\n",
    "    'Grade': Grade,\n",
    "    'Extracurricular_Activities': Extracurricular_Activities,\n",
    "    'Recommendation_Letter': Recommendation_Letter,\n",
    "    'Interview_Performance': Interview_Performance\n",
    "})\n",
    "labels = pd.Series(Admission)"
   ]
  },
  {
   "cell_type": "code",
   "execution_count": 192,
   "id": "a24ee285-55fe-4134-8e26-24814707500d",
   "metadata": {},
   "outputs": [],
   "source": [
    "encoder = LabelEncoder()\n",
    "features['Grade'] = encoder.fit_transform(features['Grade'])  \n",
    "features['Extracurricular_Activities'] = encoder.fit_transform(features['Extracurricular_Activities'])\n",
    "features['Recommendation_Letter'] = encoder.fit_transform(features['Recommendation_Letter'])\n",
    "features['Interview_Performance'] = encoder.fit_transform(features['Interview_Performance'])\n",
    "labels = encoder.fit_transform(labels)"
   ]
  },
  {
   "cell_type": "code",
   "execution_count": 193,
   "id": "15a20439-462c-4602-9b46-12b297f724e8",
   "metadata": {},
   "outputs": [],
   "source": [
    "features_train, features_test, labels_train, labels_test = train_test_split(features, labels, test_size=0.4, random_state=42)"
   ]
  },
  {
   "cell_type": "code",
   "execution_count": 194,
   "id": "41e4faf0-4750-4ed8-804b-c1b43d86329a",
   "metadata": {},
   "outputs": [],
   "source": [
    "classifier = DecisionTreeClassifier()\n",
    "classifier = classifier.fit(features_train, labels_train)"
   ]
  },
  {
   "cell_type": "code",
   "execution_count": 195,
   "id": "687121bf-a7b5-447d-8c68-049f60cdf408",
   "metadata": {},
   "outputs": [
    {
     "name": "stdout",
     "output_type": "stream",
     "text": [
      "Prediction for new entry: No\n"
     ]
    },
    {
     "name": "stderr",
     "output_type": "stream",
     "text": [
      "C:\\Users\\KK Computers\\anaconda3\\Lib\\site-packages\\sklearn\\base.py:493: UserWarning: X does not have valid feature names, but DecisionTreeClassifier was fitted with feature names\n",
      "  warnings.warn(\n"
     ]
    }
   ],
   "source": [
    "new_entry = [[0, 1, 0, 2]]  \n",
    "prediction = classifier.predict(new_entry)\n",
    "print(f\"Prediction for new entry: {'Yes' if prediction[0] == 1 else 'No'}\")"
   ]
  },
  {
   "cell_type": "code",
   "execution_count": 196,
   "id": "33b737ad-cb16-4efb-9b66-4da83ebc980f",
   "metadata": {},
   "outputs": [],
   "source": [
    "labels_pred = classifier.predict(features_test)\n",
    "conf_matrix = confusion_matrix(labels_test, labels_pred)\n",
    "accuracy = accuracy_score(labels_test, labels_pred)"
   ]
  },
  {
   "cell_type": "code",
   "execution_count": 197,
   "id": "61c62e03-56e8-4e55-9278-671486f4a9d5",
   "metadata": {},
   "outputs": [
    {
     "name": "stdout",
     "output_type": "stream",
     "text": [
      "Confusion Matrix:\n",
      "[[0 2]\n",
      " [0 2]]\n",
      "Accuracy: 50.00%\n"
     ]
    }
   ],
   "source": [
    "print(\"Confusion Matrix:\")\n",
    "print(conf_matrix)\n",
    "print(f\"Accuracy: {accuracy * 100:.2f}%\")"
   ]
  },
  {
   "cell_type": "code",
   "execution_count": null,
   "id": "33ce8782-2d6e-49f3-bf7d-721800b978f3",
   "metadata": {},
   "outputs": [],
   "source": []
  },
  {
   "cell_type": "code",
   "execution_count": null,
   "id": "e6feaf67-9ac5-4334-b2c9-583f9d74479c",
   "metadata": {},
   "outputs": [],
   "source": []
  }
 ],
 "metadata": {
  "kernelspec": {
   "display_name": "Python 3 (ipykernel)",
   "language": "python",
   "name": "python3"
  },
  "language_info": {
   "codemirror_mode": {
    "name": "ipython",
    "version": 3
   },
   "file_extension": ".py",
   "mimetype": "text/x-python",
   "name": "python",
   "nbconvert_exporter": "python",
   "pygments_lexer": "ipython3",
   "version": "3.12.7"
  }
 },
 "nbformat": 4,
 "nbformat_minor": 5
}
