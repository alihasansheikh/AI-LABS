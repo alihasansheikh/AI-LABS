{
  "metadata": {
    "kernelspec": {
      "name": "python",
      "display_name": "Python (Pyodide)",
      "language": "python"
    },
    "language_info": {
      "codemirror_mode": {
        "name": "python",
        "version": 3
      },
      "file_extension": ".py",
      "mimetype": "text/x-python",
      "name": "python",
      "nbconvert_exporter": "python",
      "pygments_lexer": "ipython3",
      "version": "3.8"
    }
  },
  "nbformat_minor": 5,
  "nbformat": 4,
  "cells": [
    {
      "id": "f5e23911-c0f6-4574-83a5-0172453c2bad",
      "cell_type": "code",
      "source": "from collections import deque\n\n# Task 01: Breadth First Search (BFS)\ndef bfs(graph, start, goal):\n    open_list = deque([start])\n    closed_list = []\n\n    while open_list:\n        current = open_list.popleft()\n        closed_list.append(current)\n\n        if current == goal:\n            return closed_list\n\n        for neighbor in graph.get(current, []):\n            if neighbor not in closed_list and neighbor not in open_list:\n                open_list.append(neighbor)\n\n    return closed_list\n",
      "metadata": {
        "trusted": true
      },
      "outputs": [],
      "execution_count": 3
    },
    {
      "id": "45fe1426-bab4-4009-9e74-f9d46405ccd0",
      "cell_type": "code",
      "source": "\n# Task 02: Depth First Search (DFS)\ndef dfs(graph, start, goal):\n    open_list = [start]\n    closed_list = []\n\n    while open_list:\n        current = open_list.pop()\n        closed_list.append(current)\n\n        if current == goal:\n            return closed_list\n\n        for neighbor in reversed(graph.get(current, [])):\n            if neighbor not in closed_list and neighbor not in open_list:\n                open_list.append(neighbor)\n\n    return closed_list\n\n# Graph for Task 01 and Task 02\ngraph = {\n    'A': ['B', 'C'],\n    'B': ['D', 'E'],\n    'C': ['F'],\n    'D': [],\n    'E': [],\n    'F': []\n}\n\n# Perform BFS and DFS\nbfs_result = bfs(graph, 'A', 'F')\ndfs_result = dfs(graph, 'A', 'F')\n\nprint(\"Task 01: BFS Open and Closed Lists\")\nprint(\"Closed List (Path):\", bfs_result)\n\nprint(\"\\nTask 02: DFS Open and Closed Lists\")\nprint(\"Closed List (Path):\", dfs_result)\n",
      "metadata": {
        "trusted": true
      },
      "outputs": [
        {
          "name": "stdout",
          "output_type": "stream",
          "text": "Task 01: BFS Open and Closed Lists\nClosed List (Path): ['A', 'B', 'C', 'D', 'E', 'F']\n\nTask 02: DFS Open and Closed Lists\nClosed List (Path): ['A', 'B', 'D', 'E', 'C', 'F']\n"
        }
      ],
      "execution_count": 4
    },
    {
      "id": "6d017ad8-ccdd-4e21-be21-d662cf6713d1",
      "cell_type": "code",
      "source": "\n# Task 03: Employee Class\nclass Employee:\n    emp_count = 0\n\n    def __init__(self, emp_name, emp_id, salary):\n        self.emp_name = emp_name\n        self.emp_id = emp_id\n        self.salary = salary\n        Employee.emp_count += 1\n\n    @staticmethod\n    def display_count():\n        print(f\"Total Employees: {Employee.emp_count}\")\n\n    def display_employee(self):\n        print(f\"Name: {self.emp_name}, ID: {self.emp_id}, Salary: {self.salary}\")\n\n# Create Employee instances\nemp1 = Employee(\"Ali\", 101, 50000)\nemp2 = Employee(\"Hassan\", 102, 60000)\n\nprint(\"\\nTask 03: Employee Details\")\nemp1.display_employee()\nemp2.display_employee()\nEmployee.display_count()\n",
      "metadata": {
        "trusted": true
      },
      "outputs": [
        {
          "name": "stdout",
          "output_type": "stream",
          "text": "\nTask 03: Employee Details\nName: Ali, ID: 101, Salary: 50000\nName: Hassan, ID: 102, Salary: 60000\nTotal Employees: 2\n"
        }
      ],
      "execution_count": 5
    },
    {
      "id": "3421cd2a-38e8-46cf-8beb-5d19bb066493",
      "cell_type": "code",
      "source": "\n# Task 04: Student Dictionary Operations\nstudent_db = {}\n\ndef add_student(student_id, name, grade):\n    student_db[student_id] = {\"Name\": name, \"Grade\": grade}\n\ndef display_students():\n    for student_id, info in student_db.items():\n        print(f\"ID: {student_id}, Name: {info['Name']}, Grade: {info['Grade']}\")\n\ndef get_average_grade():\n    if not student_db:\n        return 0\n    total_grade = sum(info[\"Grade\"] for info in student_db.values())\n    return total_grade / len(student_db)\n\n# Add students to the database\nadd_student(1, \"Ali\", 85)\nadd_student(2, \"Hassan\", 90)\nadd_student(3, \"Sheikh\", 78)\n\nprint(\"\\nTask 04: Student Database\")\nprint(\"Students List:\")\ndisplay_students()\n\naverage_grade = get_average_grade()\nprint(f\"\\nAverage Grade: {average_grade}\")\n",
      "metadata": {
        "trusted": true
      },
      "outputs": [
        {
          "name": "stdout",
          "output_type": "stream",
          "text": "\nTask 04: Student Database\nStudents List:\nID: 1, Name: Ali, Grade: 85\nID: 2, Name: Hassan, Grade: 90\nID: 3, Name: Sheikh, Grade: 78\n\nAverage Grade: 84.33333333333333\n"
        }
      ],
      "execution_count": 6
    },
    {
      "id": "cfd8912b-4d08-4ed7-8391-bf9bda2ef3b0",
      "cell_type": "code",
      "source": "",
      "metadata": {
        "trusted": true
      },
      "outputs": [],
      "execution_count": null
    }
  ]
}